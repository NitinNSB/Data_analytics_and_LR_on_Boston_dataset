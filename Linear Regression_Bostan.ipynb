{
 "cells": [
  {
   "cell_type": "code",
   "execution_count": 5,
   "id": "f39b74b6-ace5-471b-842e-9d50c194e135",
   "metadata": {},
   "outputs": [],
   "source": [
    "import pandas as pd\n",
    "import matplotlib.pyplot as plt\n",
    "import seaborn as sns\n",
    "import numpy as np"
   ]
  },
  {
   "cell_type": "code",
   "execution_count": 6,
   "id": "1b35a3f9-4ca1-4c73-a2d6-67abf16bbc9b",
   "metadata": {},
   "outputs": [],
   "source": [
    "df = pd.read_csv(\"./HousingData.csv\")"
   ]
  },
  {
   "cell_type": "code",
   "execution_count": 7,
   "id": "f65c9293-360b-4f28-9fd2-338f0b5bc61e",
   "metadata": {},
   "outputs": [
    {
     "data": {
      "text/html": [
       "<div>\n",
       "<style scoped>\n",
       "    .dataframe tbody tr th:only-of-type {\n",
       "        vertical-align: middle;\n",
       "    }\n",
       "\n",
       "    .dataframe tbody tr th {\n",
       "        vertical-align: top;\n",
       "    }\n",
       "\n",
       "    .dataframe thead th {\n",
       "        text-align: right;\n",
       "    }\n",
       "</style>\n",
       "<table border=\"1\" class=\"dataframe\">\n",
       "  <thead>\n",
       "    <tr style=\"text-align: right;\">\n",
       "      <th></th>\n",
       "      <th>CRIM</th>\n",
       "      <th>ZN</th>\n",
       "      <th>INDUS</th>\n",
       "      <th>CHAS</th>\n",
       "      <th>NOX</th>\n",
       "      <th>RM</th>\n",
       "      <th>AGE</th>\n",
       "      <th>DIS</th>\n",
       "      <th>RAD</th>\n",
       "      <th>TAX</th>\n",
       "      <th>PTRATIO</th>\n",
       "      <th>B</th>\n",
       "      <th>LSTAT</th>\n",
       "      <th>MEDV</th>\n",
       "    </tr>\n",
       "  </thead>\n",
       "  <tbody>\n",
       "    <tr>\n",
       "      <th>0</th>\n",
       "      <td>0.00632</td>\n",
       "      <td>18.0</td>\n",
       "      <td>2.31</td>\n",
       "      <td>0.0</td>\n",
       "      <td>0.538</td>\n",
       "      <td>6.575</td>\n",
       "      <td>65.2</td>\n",
       "      <td>4.0900</td>\n",
       "      <td>1</td>\n",
       "      <td>296</td>\n",
       "      <td>15.3</td>\n",
       "      <td>396.90</td>\n",
       "      <td>4.98</td>\n",
       "      <td>24.0</td>\n",
       "    </tr>\n",
       "    <tr>\n",
       "      <th>1</th>\n",
       "      <td>0.02731</td>\n",
       "      <td>0.0</td>\n",
       "      <td>7.07</td>\n",
       "      <td>0.0</td>\n",
       "      <td>0.469</td>\n",
       "      <td>6.421</td>\n",
       "      <td>78.9</td>\n",
       "      <td>4.9671</td>\n",
       "      <td>2</td>\n",
       "      <td>242</td>\n",
       "      <td>17.8</td>\n",
       "      <td>396.90</td>\n",
       "      <td>9.14</td>\n",
       "      <td>21.6</td>\n",
       "    </tr>\n",
       "    <tr>\n",
       "      <th>2</th>\n",
       "      <td>0.02729</td>\n",
       "      <td>0.0</td>\n",
       "      <td>7.07</td>\n",
       "      <td>0.0</td>\n",
       "      <td>0.469</td>\n",
       "      <td>7.185</td>\n",
       "      <td>61.1</td>\n",
       "      <td>4.9671</td>\n",
       "      <td>2</td>\n",
       "      <td>242</td>\n",
       "      <td>17.8</td>\n",
       "      <td>392.83</td>\n",
       "      <td>4.03</td>\n",
       "      <td>34.7</td>\n",
       "    </tr>\n",
       "    <tr>\n",
       "      <th>3</th>\n",
       "      <td>0.03237</td>\n",
       "      <td>0.0</td>\n",
       "      <td>2.18</td>\n",
       "      <td>0.0</td>\n",
       "      <td>0.458</td>\n",
       "      <td>6.998</td>\n",
       "      <td>45.8</td>\n",
       "      <td>6.0622</td>\n",
       "      <td>3</td>\n",
       "      <td>222</td>\n",
       "      <td>18.7</td>\n",
       "      <td>394.63</td>\n",
       "      <td>2.94</td>\n",
       "      <td>33.4</td>\n",
       "    </tr>\n",
       "    <tr>\n",
       "      <th>4</th>\n",
       "      <td>0.06905</td>\n",
       "      <td>0.0</td>\n",
       "      <td>2.18</td>\n",
       "      <td>0.0</td>\n",
       "      <td>0.458</td>\n",
       "      <td>7.147</td>\n",
       "      <td>54.2</td>\n",
       "      <td>6.0622</td>\n",
       "      <td>3</td>\n",
       "      <td>222</td>\n",
       "      <td>18.7</td>\n",
       "      <td>396.90</td>\n",
       "      <td>NaN</td>\n",
       "      <td>36.2</td>\n",
       "    </tr>\n",
       "  </tbody>\n",
       "</table>\n",
       "</div>"
      ],
      "text/plain": [
       "      CRIM    ZN  INDUS  CHAS    NOX     RM   AGE     DIS  RAD  TAX  PTRATIO  \\\n",
       "0  0.00632  18.0   2.31   0.0  0.538  6.575  65.2  4.0900    1  296     15.3   \n",
       "1  0.02731   0.0   7.07   0.0  0.469  6.421  78.9  4.9671    2  242     17.8   \n",
       "2  0.02729   0.0   7.07   0.0  0.469  7.185  61.1  4.9671    2  242     17.8   \n",
       "3  0.03237   0.0   2.18   0.0  0.458  6.998  45.8  6.0622    3  222     18.7   \n",
       "4  0.06905   0.0   2.18   0.0  0.458  7.147  54.2  6.0622    3  222     18.7   \n",
       "\n",
       "        B  LSTAT  MEDV  \n",
       "0  396.90   4.98  24.0  \n",
       "1  396.90   9.14  21.6  \n",
       "2  392.83   4.03  34.7  \n",
       "3  394.63   2.94  33.4  \n",
       "4  396.90    NaN  36.2  "
      ]
     },
     "execution_count": 7,
     "metadata": {},
     "output_type": "execute_result"
    }
   ],
   "source": [
    "df.head()"
   ]
  },
  {
   "cell_type": "code",
   "execution_count": 8,
   "id": "53e9c918-bf43-498f-ba0a-713e01b41e04",
   "metadata": {},
   "outputs": [
    {
     "name": "stdout",
     "output_type": "stream",
     "text": [
      "<class 'pandas.core.frame.DataFrame'>\n",
      "RangeIndex: 506 entries, 0 to 505\n",
      "Data columns (total 14 columns):\n",
      " #   Column   Non-Null Count  Dtype  \n",
      "---  ------   --------------  -----  \n",
      " 0   CRIM     486 non-null    float64\n",
      " 1   ZN       486 non-null    float64\n",
      " 2   INDUS    486 non-null    float64\n",
      " 3   CHAS     486 non-null    float64\n",
      " 4   NOX      506 non-null    float64\n",
      " 5   RM       506 non-null    float64\n",
      " 6   AGE      486 non-null    float64\n",
      " 7   DIS      506 non-null    float64\n",
      " 8   RAD      506 non-null    int64  \n",
      " 9   TAX      506 non-null    int64  \n",
      " 10  PTRATIO  506 non-null    float64\n",
      " 11  B        506 non-null    float64\n",
      " 12  LSTAT    486 non-null    float64\n",
      " 13  MEDV     506 non-null    float64\n",
      "dtypes: float64(12), int64(2)\n",
      "memory usage: 55.5 KB\n"
     ]
    }
   ],
   "source": [
    "df.info()"
   ]
  },
  {
   "cell_type": "code",
   "execution_count": 9,
   "id": "83cbe682-35a2-47f3-881e-00beae91a718",
   "metadata": {},
   "outputs": [
    {
     "data": {
      "text/html": [
       "<div>\n",
       "<style scoped>\n",
       "    .dataframe tbody tr th:only-of-type {\n",
       "        vertical-align: middle;\n",
       "    }\n",
       "\n",
       "    .dataframe tbody tr th {\n",
       "        vertical-align: top;\n",
       "    }\n",
       "\n",
       "    .dataframe thead th {\n",
       "        text-align: right;\n",
       "    }\n",
       "</style>\n",
       "<table border=\"1\" class=\"dataframe\">\n",
       "  <thead>\n",
       "    <tr style=\"text-align: right;\">\n",
       "      <th></th>\n",
       "      <th>CRIM</th>\n",
       "      <th>ZN</th>\n",
       "      <th>INDUS</th>\n",
       "      <th>CHAS</th>\n",
       "      <th>NOX</th>\n",
       "      <th>RM</th>\n",
       "      <th>AGE</th>\n",
       "      <th>DIS</th>\n",
       "      <th>RAD</th>\n",
       "      <th>TAX</th>\n",
       "      <th>PTRATIO</th>\n",
       "      <th>B</th>\n",
       "      <th>LSTAT</th>\n",
       "      <th>MEDV</th>\n",
       "    </tr>\n",
       "  </thead>\n",
       "  <tbody>\n",
       "    <tr>\n",
       "      <th>count</th>\n",
       "      <td>486.000000</td>\n",
       "      <td>486.000000</td>\n",
       "      <td>486.000000</td>\n",
       "      <td>486.000000</td>\n",
       "      <td>506.000000</td>\n",
       "      <td>506.000000</td>\n",
       "      <td>486.000000</td>\n",
       "      <td>506.000000</td>\n",
       "      <td>506.000000</td>\n",
       "      <td>506.000000</td>\n",
       "      <td>506.000000</td>\n",
       "      <td>506.000000</td>\n",
       "      <td>486.000000</td>\n",
       "      <td>506.000000</td>\n",
       "    </tr>\n",
       "    <tr>\n",
       "      <th>mean</th>\n",
       "      <td>3.611874</td>\n",
       "      <td>11.211934</td>\n",
       "      <td>11.083992</td>\n",
       "      <td>0.069959</td>\n",
       "      <td>0.554695</td>\n",
       "      <td>6.284634</td>\n",
       "      <td>68.518519</td>\n",
       "      <td>3.795043</td>\n",
       "      <td>9.549407</td>\n",
       "      <td>408.237154</td>\n",
       "      <td>18.455534</td>\n",
       "      <td>356.674032</td>\n",
       "      <td>12.715432</td>\n",
       "      <td>22.532806</td>\n",
       "    </tr>\n",
       "    <tr>\n",
       "      <th>std</th>\n",
       "      <td>8.720192</td>\n",
       "      <td>23.388876</td>\n",
       "      <td>6.835896</td>\n",
       "      <td>0.255340</td>\n",
       "      <td>0.115878</td>\n",
       "      <td>0.702617</td>\n",
       "      <td>27.999513</td>\n",
       "      <td>2.105710</td>\n",
       "      <td>8.707259</td>\n",
       "      <td>168.537116</td>\n",
       "      <td>2.164946</td>\n",
       "      <td>91.294864</td>\n",
       "      <td>7.155871</td>\n",
       "      <td>9.197104</td>\n",
       "    </tr>\n",
       "    <tr>\n",
       "      <th>min</th>\n",
       "      <td>0.006320</td>\n",
       "      <td>0.000000</td>\n",
       "      <td>0.460000</td>\n",
       "      <td>0.000000</td>\n",
       "      <td>0.385000</td>\n",
       "      <td>3.561000</td>\n",
       "      <td>2.900000</td>\n",
       "      <td>1.129600</td>\n",
       "      <td>1.000000</td>\n",
       "      <td>187.000000</td>\n",
       "      <td>12.600000</td>\n",
       "      <td>0.320000</td>\n",
       "      <td>1.730000</td>\n",
       "      <td>5.000000</td>\n",
       "    </tr>\n",
       "    <tr>\n",
       "      <th>25%</th>\n",
       "      <td>0.081900</td>\n",
       "      <td>0.000000</td>\n",
       "      <td>5.190000</td>\n",
       "      <td>0.000000</td>\n",
       "      <td>0.449000</td>\n",
       "      <td>5.885500</td>\n",
       "      <td>45.175000</td>\n",
       "      <td>2.100175</td>\n",
       "      <td>4.000000</td>\n",
       "      <td>279.000000</td>\n",
       "      <td>17.400000</td>\n",
       "      <td>375.377500</td>\n",
       "      <td>7.125000</td>\n",
       "      <td>17.025000</td>\n",
       "    </tr>\n",
       "    <tr>\n",
       "      <th>50%</th>\n",
       "      <td>0.253715</td>\n",
       "      <td>0.000000</td>\n",
       "      <td>9.690000</td>\n",
       "      <td>0.000000</td>\n",
       "      <td>0.538000</td>\n",
       "      <td>6.208500</td>\n",
       "      <td>76.800000</td>\n",
       "      <td>3.207450</td>\n",
       "      <td>5.000000</td>\n",
       "      <td>330.000000</td>\n",
       "      <td>19.050000</td>\n",
       "      <td>391.440000</td>\n",
       "      <td>11.430000</td>\n",
       "      <td>21.200000</td>\n",
       "    </tr>\n",
       "    <tr>\n",
       "      <th>75%</th>\n",
       "      <td>3.560263</td>\n",
       "      <td>12.500000</td>\n",
       "      <td>18.100000</td>\n",
       "      <td>0.000000</td>\n",
       "      <td>0.624000</td>\n",
       "      <td>6.623500</td>\n",
       "      <td>93.975000</td>\n",
       "      <td>5.188425</td>\n",
       "      <td>24.000000</td>\n",
       "      <td>666.000000</td>\n",
       "      <td>20.200000</td>\n",
       "      <td>396.225000</td>\n",
       "      <td>16.955000</td>\n",
       "      <td>25.000000</td>\n",
       "    </tr>\n",
       "    <tr>\n",
       "      <th>max</th>\n",
       "      <td>88.976200</td>\n",
       "      <td>100.000000</td>\n",
       "      <td>27.740000</td>\n",
       "      <td>1.000000</td>\n",
       "      <td>0.871000</td>\n",
       "      <td>8.780000</td>\n",
       "      <td>100.000000</td>\n",
       "      <td>12.126500</td>\n",
       "      <td>24.000000</td>\n",
       "      <td>711.000000</td>\n",
       "      <td>22.000000</td>\n",
       "      <td>396.900000</td>\n",
       "      <td>37.970000</td>\n",
       "      <td>50.000000</td>\n",
       "    </tr>\n",
       "  </tbody>\n",
       "</table>\n",
       "</div>"
      ],
      "text/plain": [
       "             CRIM          ZN       INDUS        CHAS         NOX          RM  \\\n",
       "count  486.000000  486.000000  486.000000  486.000000  506.000000  506.000000   \n",
       "mean     3.611874   11.211934   11.083992    0.069959    0.554695    6.284634   \n",
       "std      8.720192   23.388876    6.835896    0.255340    0.115878    0.702617   \n",
       "min      0.006320    0.000000    0.460000    0.000000    0.385000    3.561000   \n",
       "25%      0.081900    0.000000    5.190000    0.000000    0.449000    5.885500   \n",
       "50%      0.253715    0.000000    9.690000    0.000000    0.538000    6.208500   \n",
       "75%      3.560263   12.500000   18.100000    0.000000    0.624000    6.623500   \n",
       "max     88.976200  100.000000   27.740000    1.000000    0.871000    8.780000   \n",
       "\n",
       "              AGE         DIS         RAD         TAX     PTRATIO           B  \\\n",
       "count  486.000000  506.000000  506.000000  506.000000  506.000000  506.000000   \n",
       "mean    68.518519    3.795043    9.549407  408.237154   18.455534  356.674032   \n",
       "std     27.999513    2.105710    8.707259  168.537116    2.164946   91.294864   \n",
       "min      2.900000    1.129600    1.000000  187.000000   12.600000    0.320000   \n",
       "25%     45.175000    2.100175    4.000000  279.000000   17.400000  375.377500   \n",
       "50%     76.800000    3.207450    5.000000  330.000000   19.050000  391.440000   \n",
       "75%     93.975000    5.188425   24.000000  666.000000   20.200000  396.225000   \n",
       "max    100.000000   12.126500   24.000000  711.000000   22.000000  396.900000   \n",
       "\n",
       "            LSTAT        MEDV  \n",
       "count  486.000000  506.000000  \n",
       "mean    12.715432   22.532806  \n",
       "std      7.155871    9.197104  \n",
       "min      1.730000    5.000000  \n",
       "25%      7.125000   17.025000  \n",
       "50%     11.430000   21.200000  \n",
       "75%     16.955000   25.000000  \n",
       "max     37.970000   50.000000  "
      ]
     },
     "execution_count": 9,
     "metadata": {},
     "output_type": "execute_result"
    }
   ],
   "source": [
    "df.describe()"
   ]
  },
  {
   "cell_type": "markdown",
   "id": "3bfc6ac8-9597-4bf9-8055-1139b50d7828",
   "metadata": {},
   "source": [
    "### Checking And Dealing with Null values"
   ]
  },
  {
   "cell_type": "code",
   "execution_count": 11,
   "id": "a0c5189a-52a3-4357-9e0a-fe60bffc32f8",
   "metadata": {},
   "outputs": [
    {
     "data": {
      "text/plain": [
       "CRIM       20\n",
       "ZN         20\n",
       "INDUS      20\n",
       "CHAS       20\n",
       "NOX         0\n",
       "RM          0\n",
       "AGE        20\n",
       "DIS         0\n",
       "RAD         0\n",
       "TAX         0\n",
       "PTRATIO     0\n",
       "B           0\n",
       "LSTAT      20\n",
       "MEDV        0\n",
       "dtype: int64"
      ]
     },
     "execution_count": 11,
     "metadata": {},
     "output_type": "execute_result"
    }
   ],
   "source": [
    "df.isna().sum()"
   ]
  },
  {
   "cell_type": "code",
   "execution_count": 12,
   "id": "36162082-8164-4740-bc8c-32c85e0a7b3a",
   "metadata": {},
   "outputs": [],
   "source": [
    "# Crim, Zn, Indus, chas, lstat, age has 20 null values.\n",
    "\n",
    "# CHAS is a catagorical column so ,I will replace all the missing values with 0\n",
    "df[\"CHAS\"] = df[\"CHAS\"].fillna(0)\n",
    "\n",
    "#lSTAT, Zn, Indus, chas, age are continous data , i will replace mising value with mean\n",
    "df[\"LSTAT\"] = df[\"LSTAT\"].fillna(df[\"LSTAT\"].mean())\n",
    "df[\"ZN\"] = df[\"ZN\"].fillna(df[\"ZN\"].mean())\n",
    "df[\"INDUS\"] = df[\"INDUS\"].fillna(df[\"INDUS\"].mean())\n",
    "df[\"CRIM\"] = df[\"CRIM\"].fillna(df[\"CRIM\"].mean())\n",
    "df[\"AGE\"] = df[\"AGE\"].fillna(df[\"AGE\"].mean())"
   ]
  },
  {
   "cell_type": "code",
   "execution_count": 13,
   "id": "1c1b9a88-f1ac-43ba-a0d1-72606c0711c7",
   "metadata": {},
   "outputs": [
    {
     "data": {
      "text/plain": [
       "CRIM       0\n",
       "ZN         0\n",
       "INDUS      0\n",
       "CHAS       0\n",
       "NOX        0\n",
       "RM         0\n",
       "AGE        0\n",
       "DIS        0\n",
       "RAD        0\n",
       "TAX        0\n",
       "PTRATIO    0\n",
       "B          0\n",
       "LSTAT      0\n",
       "MEDV       0\n",
       "dtype: int64"
      ]
     },
     "execution_count": 13,
     "metadata": {},
     "output_type": "execute_result"
    }
   ],
   "source": [
    "df.isna().sum()"
   ]
  },
  {
   "cell_type": "markdown",
   "id": "701548ef-3b92-461f-9c84-642481d6c5de",
   "metadata": {},
   "source": [
    "### Checking for Outliers"
   ]
  },
  {
   "cell_type": "code",
   "execution_count": 15,
   "id": "5a3b322b-96ab-41e2-8697-d3c8f8069b21",
   "metadata": {},
   "outputs": [
    {
     "data": {
      "image/png": "[encoded data removed]",
      "text/plain": [
       "<Figure size 640x480 with 1 Axes>"
      ]
     },
     "metadata": {},
     "output_type": "display_data"
    },
    {
     "data": {
      "text/plain": [
       "367    13.5222\n",
       "373    11.1081\n",
       "374    18.4982\n",
       "375    19.6091\n",
       "376    15.2880\n",
       "Name: CRIM, dtype: float64"
      ]
     },
     "execution_count": 15,
     "metadata": {},
     "output_type": "execute_result"
    }
   ],
   "source": [
    "# Numerical columns are (CRIM, ZN, INDUS, NOX, RM, AGE, DIS, \n",
    "# RAD, TAX, PTRATIO, B, LSTAT, MEDV).\n",
    "# Now LETS visulize outliers with box plot\n",
    "df[\"CRIM\"].plot(kind = \"box\", title = \"CRIME RATE/ CAP\")\n",
    "plt.show()\n",
    "df[df[\"CRIM\"] > 10][\"CRIM\"].head()"
   ]
  },
  {
   "cell_type": "code",
   "execution_count": 16,
   "id": "f9bf82d8-02c0-46fb-9bc9-96cf4bf28f9e",
   "metadata": {},
   "outputs": [
    {
     "data": {
      "text/plain": [
       "<Axes: ylabel='Frequency'>"
      ]
     },
     "execution_count": 16,
     "metadata": {},
     "output_type": "execute_result"
    },
    {
     "data": {
      "image/png": "[encoded data removed]",
      "text/plain": [
       "<Figure size 640x480 with 1 Axes>"
      ]
     },
     "metadata": {},
     "output_type": "display_data"
    }
   ],
   "source": [
    "df[\"CRIM\"].plot(kind = \"hist\")\n",
    "# We can see our CRIM column Right Skewed and \n",
    "# Box plot was showing many outliers.\n",
    "# But we cant remove all of them so i will \n",
    "# only consider CRIM values below 30."
   ]
  },
  {
   "cell_type": "code",
   "execution_count": 17,
   "id": "0e2e55b3-3ff6-4d32-a6a1-d6b947f1504b",
   "metadata": {},
   "outputs": [
    {
     "data": {
      "text/plain": [
       "8"
      ]
     },
     "execution_count": 17,
     "metadata": {},
     "output_type": "execute_result"
    }
   ],
   "source": [
    "df[df[\"CRIM\"] > 30][\"CRIM\"].count()"
   ]
  },
  {
   "cell_type": "code",
   "execution_count": 18,
   "id": "c24a950c-8553-4c1a-9697-0fa1d0d868ce",
   "metadata": {},
   "outputs": [],
   "source": [
    "df = df[df[\"CRIM\"] < 30]  # removing after 30"
   ]
  },
  {
   "cell_type": "code",
   "execution_count": 19,
   "id": "1e063043-28a3-42a4-9f6d-f257cc244047",
   "metadata": {},
   "outputs": [
    {
     "data": {
      "text/plain": [
       "498"
      ]
     },
     "execution_count": 19,
     "metadata": {},
     "output_type": "execute_result"
    }
   ],
   "source": [
    "df[\"CRIM\"].count()"
   ]
  },
  {
   "cell_type": "code",
   "execution_count": 20,
   "id": "b18133d9-ef00-420f-b3c6-6945f6c73f07",
   "metadata": {},
   "outputs": [
    {
     "data": {
      "text/plain": [
       "<Axes: >"
      ]
     },
     "execution_count": 20,
     "metadata": {},
     "output_type": "execute_result"
    },
    {
     "data": {
      "image/png": "[encoded data removed]",
      "text/plain": [
       "<Figure size 640x480 with 1 Axes>"
      ]
     },
     "metadata": {},
     "output_type": "display_data"
    }
   ],
   "source": [
    "# Now for AGE column\n",
    "df[\"AGE\"].plot(kind = \"box\")\n",
    "# NO outliers"
   ]
  },
  {
   "cell_type": "code",
   "execution_count": 21,
   "id": "8b1bb960-29bb-425e-b9dc-e24fa42cd41c",
   "metadata": {},
   "outputs": [
    {
     "data": {
      "text/plain": [
       "<Axes: >"
      ]
     },
     "execution_count": 21,
     "metadata": {},
     "output_type": "execute_result"
    },
    {
     "data": {
      "image/png": "[encoded data removed]",
      "text/plain": [
       "<Figure size 640x480 with 1 Axes>"
      ]
     },
     "metadata": {},
     "output_type": "display_data"
    }
   ],
   "source": [
    "# Now for  ZN\n",
    "df[\"ZN\"].plot(kind = \"box\")\n",
    "# ZN have some outliers"
   ]
  },
  {
   "cell_type": "code",
   "execution_count": 22,
   "id": "1274203d-6ae7-4a91-950d-611dd347cbf7",
   "metadata": {},
   "outputs": [
    {
     "data": {
      "text/plain": [
       "<Axes: ylabel='Frequency'>"
      ]
     },
     "execution_count": 22,
     "metadata": {},
     "output_type": "execute_result"
    },
    {
     "data": {
      "image/png": "[encoded data removed]",
      "text/plain": [
       "<Figure size 640x480 with 1 Axes>"
      ]
     },
     "metadata": {},
     "output_type": "display_data"
    }
   ],
   "source": [
    "# Lets check the skewness of ZN\n",
    "df[\"ZN\"].plot(kind = \"hist\")\n",
    "# WE can se ZN is right skewed, i think these outliers\n",
    "# are import, so will not remove these.\n"
   ]
  },
  {
   "cell_type": "code",
   "execution_count": 23,
   "id": "681572f2-98f7-486e-adad-00c664951f3a",
   "metadata": {},
   "outputs": [],
   "source": [
    "# Checking other Function using IQR \n",
    "\n",
    "def  check_outliers(col):\n",
    "    Q1 = df[col].quantile(0.25)\n",
    "    Q3 = df[col].quantile(0.75)\n",
    "    IQR = Q3 - Q1\n",
    "    \n",
    "    # Determine outlier bounds\n",
    "    lower_bound = Q1 - 1.5 * IQR\n",
    "    upper_bound = Q3 + 1.5 * IQR\n",
    "\n",
    "    outliers = df[(df[col] < lower_bound) | (df[col] > upper_bound)]\n",
    "    \n",
    "    return f\"Total outliers in {col} column: {len(outliers)}\""
   ]
  },
  {
   "cell_type": "code",
   "execution_count": 24,
   "id": "9cf60c14-af76-43be-96df-e1a5a55a43e3",
   "metadata": {},
   "outputs": [],
   "source": [
    "# USing the function for other columns"
   ]
  },
  {
   "cell_type": "code",
   "execution_count": 25,
   "id": "021dea3a-f262-4812-bc2c-8153ecd44888",
   "metadata": {},
   "outputs": [
    {
     "data": {
      "text/plain": [
       "'Total outliers in INDUS column: 0'"
      ]
     },
     "execution_count": 25,
     "metadata": {},
     "output_type": "execute_result"
    }
   ],
   "source": [
    "# For  INDUS\n",
    "check_outliers(\"INDUS\")"
   ]
  },
  {
   "cell_type": "code",
   "execution_count": 26,
   "id": "342e6668-7eae-4158-b3e9-779a45ffde99",
   "metadata": {},
   "outputs": [
    {
     "data": {
      "text/plain": [
       "'Total outliers in NOX column: 0'"
      ]
     },
     "execution_count": 26,
     "metadata": {},
     "output_type": "execute_result"
    }
   ],
   "source": [
    "# For  NOX\n",
    "check_outliers(\"NOX\")"
   ]
  },
  {
   "cell_type": "code",
   "execution_count": 27,
   "id": "858d3edc-1c02-4c4e-b7d4-0b2287604490",
   "metadata": {},
   "outputs": [
    {
     "data": {
      "text/plain": [
       "'Total outliers in RM column: 29'"
      ]
     },
     "execution_count": 27,
     "metadata": {},
     "output_type": "execute_result"
    }
   ],
   "source": [
    "# For  RM\n",
    "check_outliers(\"RM\")"
   ]
  },
  {
   "cell_type": "code",
   "execution_count": 28,
   "id": "8b776b83-0363-4f67-b317-c05f5048b34d",
   "metadata": {},
   "outputs": [
    {
     "data": {
      "text/plain": [
       "'Total outliers in DIS column: 5'"
      ]
     },
     "execution_count": 28,
     "metadata": {},
     "output_type": "execute_result"
    }
   ],
   "source": [
    "# For  DIS, RAD, TAX, PTRATIO, B, LSTAT, MEDV\n",
    "check_outliers(\"DIS\")"
   ]
  },
  {
   "cell_type": "code",
   "execution_count": 29,
   "id": "0497c585-ccdd-4690-b864-8e0520cda6f0",
   "metadata": {},
   "outputs": [
    {
     "data": {
      "text/plain": [
       "'Total outliers in RAD column: 124'"
      ]
     },
     "execution_count": 29,
     "metadata": {},
     "output_type": "execute_result"
    }
   ],
   "source": [
    "# For RAD, TAX, PTRATIO, B, LSTAT, MEDV\n",
    "check_outliers(\"RAD\")"
   ]
  },
  {
   "cell_type": "code",
   "execution_count": 30,
   "id": "6fcc3f8a-c510-4179-8c76-8760dba95727",
   "metadata": {},
   "outputs": [
    {
     "data": {
      "text/plain": [
       "'Total outliers in TAX column: 0'"
      ]
     },
     "execution_count": 30,
     "metadata": {},
     "output_type": "execute_result"
    }
   ],
   "source": [
    "# For TAX, PTRATIO, B, LSTAT, MEDV\n",
    "check_outliers(\"TAX\")"
   ]
  },
  {
   "cell_type": "code",
   "execution_count": 31,
   "id": "a37b0976-7149-49cd-9672-daac770e7f93",
   "metadata": {},
   "outputs": [
    {
     "data": {
      "text/plain": [
       "'Total outliers in PTRATIO column: 0'"
      ]
     },
     "execution_count": 31,
     "metadata": {},
     "output_type": "execute_result"
    }
   ],
   "source": [
    "# For PTRATIO, B, LSTAT, MEDV\n",
    "check_outliers(\"PTRATIO\")"
   ]
  },
  {
   "cell_type": "code",
   "execution_count": 32,
   "id": "2110ec80-37db-46a3-8667-01d5b89484d5",
   "metadata": {},
   "outputs": [
    {
     "data": {
      "text/plain": [
       "'Total outliers in B column: 73'"
      ]
     },
     "execution_count": 32,
     "metadata": {},
     "output_type": "execute_result"
    }
   ],
   "source": [
    "# For B, LSTAT, MEDV\n",
    "check_outliers(\"B\")"
   ]
  },
  {
   "cell_type": "code",
   "execution_count": 33,
   "id": "e9c2c1fb-3218-4df9-a70d-fe1f708aa92f",
   "metadata": {},
   "outputs": [
    {
     "data": {
      "text/plain": [
       "'Total outliers in LSTAT column: 10'"
      ]
     },
     "execution_count": 33,
     "metadata": {},
     "output_type": "execute_result"
    }
   ],
   "source": [
    "# For LSTAT, MEDV\n",
    "check_outliers(\"LSTAT\")"
   ]
  },
  {
   "cell_type": "code",
   "execution_count": 34,
   "id": "d06b3173-9558-4a65-8d6e-b3d9a7c4df94",
   "metadata": {},
   "outputs": [
    {
     "data": {
      "text/plain": [
       "'Total outliers in MEDV column: 38'"
      ]
     },
     "execution_count": 34,
     "metadata": {},
     "output_type": "execute_result"
    }
   ],
   "source": [
    "# For MEDV\n",
    "check_outliers(\"MEDV\")"
   ]
  },
  {
   "cell_type": "markdown",
   "id": "88e70415-8e9f-4691-a1a5-e8c31fb28e63",
   "metadata": {},
   "source": [
    "# Implement OLS regression"
   ]
  },
  {
   "cell_type": "code",
   "execution_count": 36,
   "id": "074bf57c-06ee-4e56-914d-380fbf603750",
   "metadata": {},
   "outputs": [],
   "source": [
    "X = df.drop('MEDV', axis=1)"
   ]
  },
  {
   "cell_type": "code",
   "execution_count": 37,
   "id": "b85b3ccb-cdd2-423c-8e8f-689bbecfa6d3",
   "metadata": {},
   "outputs": [],
   "source": [
    "y = df[\"MEDV\"]"
   ]
  },
  {
   "cell_type": "code",
   "execution_count": 38,
   "id": "3b17294c-40f1-44ac-b713-2f73d1ac624f",
   "metadata": {},
   "outputs": [],
   "source": [
    "import statsmodels.api as sm"
   ]
  },
  {
   "cell_type": "code",
   "execution_count": 39,
   "id": "0622436f-c977-4fba-97fe-1810ee444204",
   "metadata": {},
   "outputs": [],
   "source": [
    "#Define the model\n",
    "X = sm.add_constant(X)\n",
    "model = sm.OLS(y,X)"
   ]
  },
  {
   "cell_type": "code",
   "execution_count": 40,
   "id": "b0508829-bc41-46e8-8b73-ed706ae13182",
   "metadata": {},
   "outputs": [],
   "source": [
    "#Fit the model\n",
    "result = model.fit()"
   ]
  },
  {
   "cell_type": "code",
   "execution_count": 41,
   "id": "314fd40a-d4b7-4e3d-93df-0695a00369aa",
   "metadata": {},
   "outputs": [
    {
     "name": "stdout",
     "output_type": "stream",
     "text": [
      "                            OLS Regression Results                            \n",
      "==============================================================================\n",
      "Dep. Variable:                   MEDV   R-squared:                       0.725\n",
      "Model:                            OLS   Adj. R-squared:                  0.718\n",
      "Method:                 Least Squares   F-statistic:                     98.34\n",
      "Date:                Mon, 14 Oct 2024   Prob (F-statistic):          1.25e-126\n",
      "Time:                        12:40:47   Log-Likelihood:                -1483.8\n",
      "No. Observations:                 498   AIC:                             2996.\n",
      "Df Residuals:                     484   BIC:                             3055.\n",
      "Df Model:                          13                                         \n",
      "Covariance Type:            nonrobust                                         \n",
      "==============================================================================\n",
      "                 coef    std err          t      P>|t|      [0.025      0.975]\n",
      "------------------------------------------------------------------------------\n",
      "const         32.7820      5.257      6.236      0.000      22.452      43.112\n",
      "CRIM          -0.1121      0.077     -1.451      0.148      -0.264       0.040\n",
      "ZN             0.0400      0.014      2.872      0.004       0.013       0.067\n",
      "INDUS         -0.0345      0.061     -0.564      0.573      -0.155       0.086\n",
      "CHAS           3.0404      0.887      3.427      0.001       1.297       4.784\n",
      "NOX          -16.3560      3.827     -4.274      0.000     -23.875      -8.837\n",
      "RM             4.1839      0.422      9.905      0.000       3.354       5.014\n",
      "AGE           -0.0110      0.013     -0.840      0.401      -0.037       0.015\n",
      "DIS           -1.4808      0.200     -7.419      0.000      -1.873      -1.089\n",
      "RAD            0.2688      0.073      3.693      0.000       0.126       0.412\n",
      "TAX           -0.0104      0.004     -2.746      0.006      -0.018      -0.003\n",
      "PTRATIO       -0.9206      0.134     -6.863      0.000      -1.184      -0.657\n",
      "B              0.0104      0.003      3.598      0.000       0.005       0.016\n",
      "LSTAT         -0.4718      0.052     -9.005      0.000      -0.575      -0.369\n",
      "==============================================================================\n",
      "Omnibus:                      184.212   Durbin-Watson:                   1.061\n",
      "Prob(Omnibus):                  0.000   Jarque-Bera (JB):              891.630\n",
      "Skew:                           1.569   Prob(JB):                    2.43e-194\n",
      "Kurtosis:                       8.755   Cond. No.                     1.50e+04\n",
      "==============================================================================\n",
      "\n",
      "Notes:\n",
      "[1] Standard Errors assume that the covariance matrix of the errors is correctly specified.\n",
      "[2] The condition number is large, 1.5e+04. This might indicate that there are\n",
      "strong multicollinearity or other numerical problems.\n"
     ]
    }
   ],
   "source": [
    "#Print the model summary\n",
    "print(result.summary())"
   ]
  },
  {
   "cell_type": "markdown",
   "id": "7437e8d2-7e35-4960-897b-b86b5a3a3a27",
   "metadata": {},
   "source": [
    "## Conclusion : \n",
    " - Model explains about 72% of the variance,here's still about 28% unexplained. "
   ]
  },
  {
   "cell_type": "code",
   "execution_count": null,
   "id": "b690e5d6-3253-4fd6-9183-94774a486981",
   "metadata": {},
   "outputs": [],
   "source": []
  }
 ],
 "metadata": {
  "kernelspec": {
   "display_name": "Python 3 (ipykernel)",
   "language": "python",
   "name": "python3"
  },
  "language_info": {
   "codemirror_mode": {
    "name": "ipython",
    "version": 3
   },
   "file_extension": ".py",
   "mimetype": "text/x-python",
   "name": "python",
   "nbconvert_exporter": "python",
   "pygments_lexer": "ipython3",
   "version": "3.12.3"
  }
 },
 "nbformat": 4,
 "nbformat_minor": 5
}
